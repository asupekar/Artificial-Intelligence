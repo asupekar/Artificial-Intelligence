{
 "cells": [
  {
   "cell_type": "markdown",
   "metadata": {},
   "source": [
    "<span style=\"color:red\">Aishwarya Supekar</span>"
   ]
  },
  {
   "cell_type": "markdown",
   "metadata": {},
   "source": [
    "Here is a data set to pull your model parameters from.  For all fields, 0 means False and 1 means True."
   ]
  },
  {
   "cell_type": "markdown",
   "metadata": {},
   "source": [
    "Problem (Re)Statement:\n",
    "\n",
    "* Shortness of breath (dyspnea) may be due to tuberculosis, lung cancer or bronchitis, or none of them, or more than one of them. \n",
    "* A recent visit to Asia increases the chances of tuberculosis.\n",
    "* Smoking is known to be a risk factor for both lung cancer and bronchitis. \n",
    "* A positive chest X-ray suggests either lung cancer or tuberculosis, but cannot distinguish between them"
   ]
  },
  {
   "cell_type": "code",
   "execution_count": null,
   "metadata": {},
   "outputs": [],
   "source": [
    "from pandas import *\n",
    "import pandas as pd\n",
    "df = pandas.read_csv(\"asia.csv\")"
   ]
  },
  {
   "cell_type": "code",
   "execution_count": null,
   "metadata": {},
   "outputs": [],
   "source": [
    "df.head()"
   ]
  },
  {
   "cell_type": "markdown",
   "metadata": {},
   "source": [
    "<image src=\"asia.gif\" size=200/>"
   ]
  },
  {
   "cell_type": "markdown",
   "metadata": {},
   "source": [
    "<image src=\"asia.gif\"/>\n"
   ]
  },
  {
   "cell_type": "markdown",
   "metadata": {},
   "source": [
    "Begin by writing out your model.  For example here are names of some nodes, and the arcs that connect them.  The arrow -> means a parent/child relationship\n",
    "\n",
    "<pre>\n",
    "Asia                                   -> Tuberculosis\n",
    "\n",
    "Tuberculosis, LungCancer, Bronchitis   -> Dyspnea\n",
    "\n",
    "\n",
    "</pre>"
   ]
  },
  {
   "cell_type": "markdown",
   "metadata": {},
   "source": [
    "<span style=\"color:red\">\n",
    "Informally write your model in this cell -- using the notation above. \n",
    "It will determine the parameters you will need to get from the data set\n",
    "</span>"
   ]
  },
  {
   "cell_type": "code",
   "execution_count": null,
   "metadata": {},
   "outputs": [],
   "source": [
    "from pomegranate import *\n",
    "\n",
    "# Smoking                   --------> Lung Cancer and Bronchitis\n",
    "\n",
    "# Tuberculosis, Lung Cancer --------> X-ray result"
   ]
  },
  {
   "cell_type": "code",
   "execution_count": null,
   "metadata": {},
   "outputs": [],
   "source": [
    "(df.VisitToAsia.value_counts() / df.shape[0]).sort_index()"
   ]
  },
  {
   "cell_type": "code",
   "execution_count": null,
   "metadata": {},
   "outputs": [],
   "source": [
    "(df.Smoker.value_counts() / df.shape[0]).sort_index()"
   ]
  },
  {
   "cell_type": "code",
   "execution_count": null,
   "metadata": {},
   "outputs": [],
   "source": [
    "pd.crosstab(df.Tuberculosis, df.VisitToAsia, normalize='columns')"
   ]
  },
  {
   "cell_type": "code",
   "execution_count": null,
   "metadata": {},
   "outputs": [],
   "source": [
    "pd.crosstab(df.LungCancer, df.Smoker, normalize='columns')"
   ]
  },
  {
   "cell_type": "code",
   "execution_count": null,
   "metadata": {},
   "outputs": [],
   "source": [
    "pd.crosstab(df.Bronchitis, df.Smoker, normalize='columns')"
   ]
  },
  {
   "cell_type": "code",
   "execution_count": null,
   "metadata": {},
   "outputs": [],
   "source": [
    "pd.crosstab(df.Smoker, [df.LungCancer, df.Bronchitis], normalize='columns')"
   ]
  },
  {
   "cell_type": "code",
   "execution_count": null,
   "metadata": {},
   "outputs": [],
   "source": [
    "pd.crosstab(df.Bronchitis, df.Smoker, normalize='columns')"
   ]
  },
  {
   "cell_type": "code",
   "execution_count": null,
   "metadata": {},
   "outputs": [],
   "source": [
    "pd.crosstab(df.XRay, [df.Tuberculosis, df.LungCancer] , normalize='columns')"
   ]
  },
  {
   "cell_type": "code",
   "execution_count": null,
   "metadata": {},
   "outputs": [],
   "source": [
    "pd.crosstab(df.Dyspnea, [df.Tuberculosis, df.LungCancer, df.Bronchitis] , normalize='columns')"
   ]
  },
  {
   "cell_type": "code",
   "execution_count": null,
   "metadata": {},
   "outputs": [],
   "source": [
    "pd.crosstab(df.LungCancer, df.Tuberculosis, normalize='columns')"
   ]
  },
  {
   "cell_type": "code",
   "execution_count": null,
   "metadata": {},
   "outputs": [],
   "source": [
    "(df.Tuberculosis.value_counts() / df.shape[0]).sort_index()"
   ]
  },
  {
   "cell_type": "code",
   "execution_count": null,
   "metadata": {},
   "outputs": [],
   "source": [
    "pd.crosstab(df.VisitToAsia, df.LungCancer, normalize='columns')"
   ]
  },
  {
   "cell_type": "code",
   "execution_count": null,
   "metadata": {},
   "outputs": [],
   "source": [
    "pd.crosstab(df.XRay, df.LungCancer, normalize='columns')"
   ]
  },
  {
   "cell_type": "markdown",
   "metadata": {},
   "source": [
    "Now define your distributions\n"
   ]
  },
  {
   "cell_type": "code",
   "execution_count": null,
   "metadata": {},
   "outputs": [],
   "source": [
    "#  All your distributions in this cell\n",
    "VisitToAsia = DiscreteDistribution({True : 0.0094, False : 0.9906})\n",
    "\n",
    "tuberculosis = ConditionalProbabilityTable(\n",
    "                 [[True, True, 0.074468],\n",
    "                 [True, False, 0.925532],\n",
    "                 [False, True, 0.009085],\n",
    "                 [False, False, 0.990915]], [VisitToAsia])\n",
    "\n",
    "smoking = DiscreteDistribution({True : 0.4969, False : 0.5031})\n",
    "\n",
    "lungcancer = ConditionalProbabilityTable(\n",
    "                 [[True, True, 0.103844],\n",
    "                 [True, False, 0.896156],\n",
    "                 [False, True, 0.009143],\n",
    "                 [False, False, 0.990857]], [smoking])\n",
    "\n",
    "bronchitis = ConditionalProbabilityTable(\n",
    "                 [[True, True, 0.600724],\n",
    "                 [True, False, 0.399276],\n",
    "                 [False, True, 0.291393],\n",
    "                 [False, False, 0.708607]], [smoking])\n",
    "\n",
    "xRay = ConditionalProbabilityTable(\n",
    "                 [[True, True, True, 1.0],\n",
    "                  [True, True, False, 0.0],\n",
    "                  \n",
    "                 [True, False, True, 0.977528],\n",
    "                 [True, False, False,0.022472],\n",
    "                  \n",
    "                 [False, True, True , 0.971119],\n",
    "                 [False, True, False, 0.028881],\n",
    "                  \n",
    "                 [False, False, True, 0.050273],\n",
    "                 [False, False,False, 0.949727]], [tuberculosis, lungcancer])\n",
    "\n",
    "dyspnea = ConditionalProbabilityTable(\n",
    "                 [[True, True,  True, True, 1.0],\n",
    "                  [True, True,  True, False, 0.0],\n",
    "                  \n",
    "                  [True, True,  False,True, 0.571429],\n",
    "                  [True, True,  False,False, 0.428571],\n",
    "                  \n",
    "                  [True, False, True, True, 0.914286],\n",
    "                  [True, False, True, False,0.085714],\n",
    "                  \n",
    "                  [True, False, False,True, 0.703704],\n",
    "                  [True, False, False,False, 0.296296],\n",
    "                  \n",
    "                  [False, True, True, True, 0.899371],\n",
    "                  [False, True, True, False, 0.100629],\n",
    "                  \n",
    "                  [False, True, False,True, 0.665254],\n",
    "                  [False, True, False,False,0.334746],\n",
    "                  \n",
    "                  [False, False,True, True, 0.800586],\n",
    "                  [False, False,True, False, 0.199414],\n",
    "                  \n",
    "                  [False, False,False,True,0.092536],\n",
    "                  [False, False,False,False,0.907464]],[tuberculosis, lungcancer, bronchitis])"
   ]
  },
  {
   "cell_type": "markdown",
   "metadata": {},
   "source": [
    "Next define the nodes in your network"
   ]
  },
  {
   "cell_type": "code",
   "execution_count": null,
   "metadata": {},
   "outputs": [],
   "source": [
    "# All your nodes in this cell\n",
    "Asia = Node(VisitToAsia, \"Asia\")\n",
    "Tuberculosis = Node(tuberculosis, \"Tuberculosis\")\n",
    "Smoking = Node(smoking, \"Smoking\")\n",
    "Lungcancer = Node(lungcancer, \"Lungcancer\")\n",
    "Bronchitis = Node(bronchitis, \"Bronchitis\")\n",
    "Xray = Node(xRay, \"Xray\")\n",
    "Dyspnea = Node(dyspnea, \"Dyspnea\")\n"
   ]
  },
  {
   "cell_type": "markdown",
   "metadata": {},
   "source": [
    "Define your model, adding states and edges"
   ]
  },
  {
   "cell_type": "code",
   "execution_count": null,
   "metadata": {},
   "outputs": [],
   "source": [
    "model = BayesianNetwork(\"Cancer\")\n",
    "model.add_states(Asia, Tuberculosis, Smoking, Lungcancer, Bronchitis, Xray, Dyspnea)\n",
    "model.add_edge(Asia, Tuberculosis)\n",
    "model.add_edge(Smoking, Lungcancer)\n",
    "model.add_edge(Smoking, Bronchitis)\n",
    "model.add_edge(Lungcancer, Xray)\n",
    "model.add_edge(Tuberculosis, Xray)\n",
    "model.add_edge(Tuberculosis, Dyspnea)\n",
    "model.add_edge(Lungcancer, Dyspnea)\n",
    "model.add_edge(Bronchitis, Dyspnea)\n",
    "model.bake()\n",
    "           \n",
    "def nodeIndex(model, nodeName, probs):\n",
    "    return list(map(lambda s: s.name, model.states)).index(nodeName)\n",
    "\n",
    "def probDist(nodeName, model, evidence):\n",
    "    return model.predict_proba(evidence)[nodeIndex(model, nodeName, model)].parameters[0]"
   ]
  },
  {
   "cell_type": "markdown",
   "metadata": {},
   "source": [
    "------------------------------------------------"
   ]
  },
  {
   "cell_type": "markdown",
   "metadata": {},
   "source": [
    "#### Questions"
   ]
  },
  {
   "cell_type": "markdown",
   "metadata": {},
   "source": [
    "1.  What is the probability that an individual in the sampled population has either lung cancer or tuberculosis or both?"
   ]
  },
  {
   "cell_type": "code",
   "execution_count": null,
   "metadata": {},
   "outputs": [],
   "source": [
    "LungCancer_prob = probDist('Lungcancer', model, {})[True]\n",
    "\n",
    "Tuberculosis_prob = probDist('Tuberculosis', model, {})[True]\n",
    "\n",
    "# P(answer ) = P(Tuberculosis) + P(Lungcancer) - P(Tuberculosis and Lungcancer)\n",
    "Answer = LungCancer_prob + Tuberculosis_prob - (LungCancer_prob * Tuberculosis_prob)\n",
    "\n",
    "print(Answer)"
   ]
  },
  {
   "cell_type": "markdown",
   "metadata": {},
   "source": [
    "Answer question 1:- The probabilty that an individual in the sampled population has either lung cancer or tuberculosis or both is nearly 6.5%"
   ]
  },
  {
   "cell_type": "markdown",
   "metadata": {},
   "source": [
    "2.  What is the probability that an individual in the sampled population will have a positive chest X-ray?  "
   ]
  },
  {
   "cell_type": "code",
   "execution_count": null,
   "metadata": {},
   "outputs": [],
   "source": [
    "Positive_Xray =  probDist('Xray', model, {})\n",
    "print(Positive_Xray[True])"
   ]
  },
  {
   "cell_type": "markdown",
   "metadata": {},
   "source": [
    "Answer question 2:- The probability that an individual in the sampled population will have a positive chest X-ray is 11.0%."
   ]
  },
  {
   "cell_type": "markdown",
   "metadata": {},
   "source": [
    "3.  What is the probability that a smoker with a positive chest X-ray has lung cancer?  Does this probability depend on whether or not the individual has visited Asia?"
   ]
  },
  {
   "cell_type": "code",
   "execution_count": null,
   "metadata": {},
   "outputs": [],
   "source": [
    "Lungcancer_NoAsia =  probDist('Lungcancer', model, {'Smoking' : True, 'Xray' : True})[True]\n",
    "print(Lungcancer_NoAsia)\n",
    "                                     \n",
    "Lungcancer_Asia =  probDist('Lungcancer', model, {'Smoking' : True, 'Xray' : True, 'Asia' : True})[True]\n",
    "print(Lungcancer_Asia)"
   ]
  },
  {
   "cell_type": "markdown",
   "metadata": {},
   "source": [
    "Answer question 3 - The probability that a smoker with a positive chest X-ray has lung cancer is 65.55%. If the individual has visited Asia the probability of lungcancer changes to 48.59% and if they do not visit Asia then the probability is 51.40%. This indicates that, if the individual has visited Asia, the probability of him to get an Lungcancer reduced by 64% than having a Tuberculosis, as visiting Asia increases the chances of Tuberculosis."
   ]
  },
  {
   "cell_type": "markdown",
   "metadata": {},
   "source": [
    "4.  How much does a trip to Asia affect the likelihood of an individual having Dyspnea?"
   ]
  },
  {
   "cell_type": "code",
   "execution_count": null,
   "metadata": {},
   "outputs": [],
   "source": [
    "Asia_visit = probDist('Dyspnea', model, {'Asia': True})[True]\n",
    "\n",
    "NotAsia = probDist('Dyspnea', model, {'Asia': False})[True]\n",
    "\n",
    "effect = (Asia_visit - NotAsia)/Asia_visit\n",
    "\n",
    "print(effect)"
   ]
  },
  {
   "cell_type": "markdown",
   "metadata": {},
   "source": [
    "Answer question 4:- Visit to Asia increases the likelihood of Dyspnea by 5.2%."
   ]
  },
  {
   "cell_type": "markdown",
   "metadata": {},
   "source": [
    "5.  Suppose you are a nonsmoker individual presenting with Dyspnea and you have never been to Asia. Based on this information what are the relative likelihoods that you have (a) Tuberculosis, (b) Lung Cancer, (c) Bronchitis, or (d) none of them?"
   ]
  },
  {
   "cell_type": "code",
   "execution_count": null,
   "metadata": {},
   "outputs": [],
   "source": [
    "\n",
    "tuberprob = probDist('Tuberculosis', model, {'Smoker' : False, 'Dyspnea': True, 'Asia' : False})[True]\n",
    "print(tuberprob)\n",
    "\n",
    "lung_cancer_prob = probDist('Lungcancer', model, {'Smoking' : False, 'Dyspnea': True, 'Asia': False})[True]\n",
    "print(lung_cancer_prob)\n",
    "\n",
    "bronchitis_prob = probDist('Bronchitis', model, {'Smoking' : False, 'Dyspnea': True, 'Asia': False})[True]\n",
    "print(bronchitis_prob)\n",
    "\n",
    "stayHealthy = 1 - (tuberprob[True] + lung_cancer_prob[True] + bronchitis_prob[True]) \n",
    "print('Stay Healthy', stayHealthy)\n"
   ]
  },
  {
   "cell_type": "markdown",
   "metadata": {},
   "source": [
    "Answer question 5:-Depending on the given conditions, the probability of having Tuberculosis is 1.6%. The probability of having LungCancer is 2.1%. The probability of having Bronchitis is 7.6%. Also, the probability of having none of these is 20.0%."
   ]
  },
  {
   "cell_type": "markdown",
   "metadata": {},
   "source": [
    "6.  In your panic you have a chest XRay done, which comes out negative.   How does that change the relative likelihoods?"
   ]
  },
  {
   "cell_type": "code",
   "execution_count": null,
   "metadata": {},
   "outputs": [],
   "source": [
    "tuberculosis = probDist('Tuberculosis', model, {'Smoking' : False, 'Dyspnea': True, 'Asia': False, 'Xray': False})[True]\n",
    "\n",
    "Lungcancer = probDist('Lungcancer', model, {'Smoking' : False, 'Dyspnea': True, 'Asia': False, 'Xray': False})[True]\n",
    "\n",
    "bronchitis = probDist('Bronchitis', model, {'Smoking' : False, 'Dyspnea': True, 'Asia': False, 'Xray': False})[True]\n",
    "\n",
    "stayHealthy = 1 - (tuberculosis[True] + Lungcancer[True] + bronchitis[True])\n",
    "\n",
    "\n",
    "print('Tuberculosis probability is ', tuberculosis)\n",
    "\n",
    "print('Lungcancer probability is', Lungcancer)\n",
    "\n",
    "print('Brochitis probability is', bronchitis)\n",
    "\n",
    "print('Stay Healthy probability is', stayHealthy)\n"
   ]
  },
  {
   "cell_type": "markdown",
   "metadata": {},
   "source": [
    "Answer question 6:- Depending on the given conditions, the probability of having negative Xray changes the staying healthy probability to 21.86% from 20.0% which is an increase of 8.509% from having a positive chest Xray."
   ]
  },
  {
   "cell_type": "markdown",
   "metadata": {},
   "source": [
    "7.  On the basis of this information, should you seek medical attention?"
   ]
  },
  {
   "cell_type": "markdown",
   "metadata": {},
   "source": [
    "Answer question 7:- As the probability of getting an Xray negative result is very high, it seems that we do not need to seek medical attention"
   ]
  }
 ],
 "metadata": {
  "kernelspec": {
   "display_name": "Python 3",
   "language": "python",
   "name": "python3"
  },
  "language_info": {
   "codemirror_mode": {
    "name": "ipython",
    "version": 3
   },
   "file_extension": ".py",
   "mimetype": "text/x-python",
   "name": "python",
   "nbconvert_exporter": "python",
   "pygments_lexer": "ipython3",
   "version": "3.7.6"
  }
 },
 "nbformat": 4,
 "nbformat_minor": 2
}
